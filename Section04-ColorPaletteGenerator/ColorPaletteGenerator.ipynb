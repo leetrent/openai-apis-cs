{
 "cells": [
  {
   "cell_type": "code",
   "execution_count": 2,
   "id": "37a60c1d",
   "metadata": {},
   "outputs": [],
   "source": [
    "import openai\n",
    "from dotenv import dotenv_values\n",
    "from IPython.display import Markdown, display"
   ]
  },
  {
   "cell_type": "code",
   "execution_count": 3,
   "id": "189ba602",
   "metadata": {},
   "outputs": [],
   "source": [
    "config = dotenv_values(\".env\")\n",
    "openai.api_key = config[\"OPENAI_API_KEY\"]"
   ]
  },
  {
   "cell_type": "code",
   "execution_count": 4,
   "id": "72807d9f",
   "metadata": {},
   "outputs": [],
   "source": [
    "instructions = \"\"\"\n",
    "You are a color palette generating assistant that responds to text prompts for color palettes.\n",
    "You should generate color palettes that fit the theme, mood or instructions in the prompt.\n",
    "The color palettes should contain between 2 and colors.\n",
    "\n",
    "Here are 2 Q & A examples:\n",
    "Q: Convert the following verbal description of a color palette into a list of colors: The Mediterranean Sea\n",
    "A: [\"#006699\", \"#66CCCC\", \"#F0E68C\", \"#008000\", \"#F08080\"]\n",
    "\n",
    "Q: Convert the following verbal description of a color palette into a list of colors: sage, nature, earth\n",
    "A: [\"#EDF1D6\", \"#9DC08B\", \"#609966\", \"#40513B\"]\n",
    "\n",
    "\n",
    "Desired format: JSON array of hexadecimal color codes\n",
    "\n",
    "Text: A beautiful sunset.\n",
    "\n",
    "Result:\n",
    "\"\"\""
   ]
  },
  {
   "cell_type": "code",
   "execution_count": 5,
   "id": "1eb42e21",
   "metadata": {},
   "outputs": [
    {
     "name": "stdout",
     "output_type": "stream",
     "text": [
      "[\"#DE8F5B\", \"#F19F4D\", \"#FCB655\", \"#FED179\", \"#F8EA9A\"]\n"
     ]
    }
   ],
   "source": [
    "openAiResponse = openai.Completion.create(\n",
    "    model=\"text-davinci-003\",\n",
    "    prompt=instructions,\n",
    "    max_tokens=200\n",
    ")\n",
    "print(openAiResponse[\"choices\"][0][\"text\"])"
   ]
  },
  {
   "cell_type": "code",
   "execution_count": 6,
   "id": "3402ccb5",
   "metadata": {},
   "outputs": [],
   "source": [
    "def display_color(colors):\n",
    "    display(Markdown(\" \".join(f\"<span style='color: {color}'>{chr(9608) }</span>\" for color in colors))) "
   ]
  },
  {
   "cell_type": "code",
   "execution_count": 7,
   "id": "7f8a3f12",
   "metadata": {},
   "outputs": [
    {
     "data": {
      "text/markdown": [
       "<span style='color: #FF7C4C'>█</span> <span style='color: #FCBF49'>█</span> <span style='color: #F9EF50'>█</span> <span style='color: #F6F45F'>█</span> <span style='color: #82C5FF'>█</span>"
      ],
      "text/plain": [
       "<IPython.core.display.Markdown object>"
      ]
     },
     "metadata": {},
     "output_type": "display_data"
    }
   ],
   "source": [
    "display_color([\"#FF7C4C\", \"#FCBF49\", \"#F9EF50\", \"#F6F45F\", \"#82C5FF\"])"
   ]
  }
 ],
 "metadata": {
  "kernelspec": {
   "display_name": "Python 3 (ipykernel)",
   "language": "python",
   "name": "python3"
  },
  "language_info": {
   "codemirror_mode": {
    "name": "ipython",
    "version": 3
   },
   "file_extension": ".py",
   "mimetype": "text/x-python",
   "name": "python",
   "nbconvert_exporter": "python",
   "pygments_lexer": "ipython3",
   "version": "3.10.11"
  }
 },
 "nbformat": 4,
 "nbformat_minor": 5
}
