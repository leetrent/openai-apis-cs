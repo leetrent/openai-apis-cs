{
 "cells": [
  {
   "cell_type": "code",
   "execution_count": 1,
   "id": "37a60c1d",
   "metadata": {},
   "outputs": [],
   "source": [
    "import openai\n",
    "import json\n",
    "from dotenv import dotenv_values\n",
    "from IPython.display import Markdown, display"
   ]
  },
  {
   "cell_type": "code",
   "execution_count": 2,
   "id": "75154979",
   "metadata": {},
   "outputs": [],
   "source": [
    "def display_colors(colors):\n",
    "    display(Markdown(\" \".join(f\"<span style='color: {color}'>{chr(9608) * 10}</span>\" for color in colors))) "
   ]
  },
  {
   "cell_type": "code",
   "execution_count": 3,
   "id": "189ba602",
   "metadata": {},
   "outputs": [],
   "source": [
    "config = dotenv_values(\".env\")\n",
    "openai.api_key = config[\"OPENAI_API_KEY\"]"
   ]
  },
  {
   "cell_type": "code",
   "execution_count": 9,
   "id": "72807d9f",
   "metadata": {},
   "outputs": [],
   "source": [
    "instructions = \"\"\"\n",
    "You are a color palette generating assistant that responds to text prompts for color palettes.\n",
    "You should generate color palettes that fit the theme, mood or instructions in the prompt.\n",
    "The color palettes should contain between 2 and colors.\n",
    "\n",
    "Here are 2 Q & A examples:\n",
    "Q: Convert the following verbal description of a color palette into a list of colors: The Mediterranean Sea\n",
    "A: [\"#006699\", \"#66CCCC\", \"#F0E68C\", \"#008000\", \"#F08080\"]\n",
    "\n",
    "Q: Convert the following verbal description of a color palette into a list of colors: sage, nature, earth\n",
    "A: [\"#EDF1D6\", \"#9DC08B\", \"#609966\", \"#40513B\"]\n",
    "\n",
    "\n",
    "Desired format: JSON array of hexadecimal color codes\n",
    "\n",
    "Text: ocean tones\n",
    "\n",
    "Result:\n",
    "\"\"\""
   ]
  },
  {
   "cell_type": "code",
   "execution_count": 10,
   "id": "1eb42e21",
   "metadata": {},
   "outputs": [],
   "source": [
    "openAiResponse = openai.Completion.create(\n",
    "    model=\"text-davinci-003\",\n",
    "    prompt=instructions,\n",
    "    max_tokens=200\n",
    ")"
   ]
  },
  {
   "cell_type": "code",
   "execution_count": 11,
   "id": "3402ccb5",
   "metadata": {},
   "outputs": [],
   "source": [
    "colors = json.loads(openAiResponse[\"choices\"][0][\"text\"])"
   ]
  },
  {
   "cell_type": "code",
   "execution_count": 12,
   "id": "5733ed1b",
   "metadata": {},
   "outputs": [
    {
     "name": "stdout",
     "output_type": "stream",
     "text": [
      "['#0080FF', '#3399CC', '#66B2FF', '#80CCFF', '#336699']\n"
     ]
    }
   ],
   "source": [
    "print(colors)"
   ]
  },
  {
   "cell_type": "code",
   "execution_count": 13,
   "id": "4e6f9f5e",
   "metadata": {},
   "outputs": [
    {
     "data": {
      "text/markdown": [
       "<span style='color: #0080FF'>██████████</span> <span style='color: #3399CC'>██████████</span> <span style='color: #66B2FF'>██████████</span> <span style='color: #80CCFF'>██████████</span> <span style='color: #336699'>██████████</span>"
      ],
      "text/plain": [
       "<IPython.core.display.Markdown object>"
      ]
     },
     "metadata": {},
     "output_type": "display_data"
    }
   ],
   "source": [
    "display_colors(colors)"
   ]
  }
 ],
 "metadata": {
  "kernelspec": {
   "display_name": "Python 3 (ipykernel)",
   "language": "python",
   "name": "python3"
  },
  "language_info": {
   "codemirror_mode": {
    "name": "ipython",
    "version": 3
   },
   "file_extension": ".py",
   "mimetype": "text/x-python",
   "name": "python",
   "nbconvert_exporter": "python",
   "pygments_lexer": "ipython3",
   "version": "3.10.11"
  }
 },
 "nbformat": 4,
 "nbformat_minor": 5
}
